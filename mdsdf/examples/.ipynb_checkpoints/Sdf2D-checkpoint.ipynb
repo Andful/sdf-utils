{
 "cells": [
  {
   "cell_type": "code",
   "execution_count": null,
   "id": "0f5f25b7-7399-4336-afe7-0c08c053c28c",
   "metadata": {},
   "outputs": [],
   "source": [
    "from mrsdf import Sdf2D\n",
    "from graphviz import Source"
   ]
  },
  {
   "cell_type": "code",
   "execution_count": null,
   "id": "fed92db4-b2ee-4a38-b5ce-289d9ec553b0",
   "metadata": {},
   "outputs": [],
   "source": [
    "sdf = Sdf2D(['A', 'B', 'C'])\n",
    "sdf.add_channel(source='A', target='B', production_rate=(2, 2), consumption_rate=(3, 3), initial_tokens=(0, 0))\n",
    "sdf.add_channel(source='B', target='C', production_rate=(1, 1), consumption_rate=(2, 2), initial_tokens=(0, 0))"
   ]
  },
  {
   "cell_type": "code",
   "execution_count": null,
   "id": "eecdfc64-2130-4773-befe-7edc968e0a2a",
   "metadata": {},
   "outputs": [],
   "source": [
    "Source(sdf.dot())"
   ]
  },
  {
   "cell_type": "code",
   "execution_count": null,
   "id": "1ea48740-040d-4af3-9ad3-23915deb7686",
   "metadata": {},
   "outputs": [],
   "source": [
    "hsdf = sdf.hsdf()"
   ]
  },
  {
   "cell_type": "code",
   "execution_count": null,
   "id": "3ccf5d3a-7a46-48d6-9835-ff9e8753918d",
   "metadata": {},
   "outputs": [],
   "source": [
    "Source(hsdf.dot())"
   ]
  }
 ],
 "metadata": {
  "kernelspec": {
   "display_name": "Python 3 (ipykernel)",
   "language": "python",
   "name": "python3"
  },
  "language_info": {
   "codemirror_mode": {
    "name": "ipython",
    "version": 3
   },
   "file_extension": ".py",
   "mimetype": "text/x-python",
   "name": "python",
   "nbconvert_exporter": "python",
   "pygments_lexer": "ipython3",
   "version": "3.10.12"
  }
 },
 "nbformat": 4,
 "nbformat_minor": 5
}
